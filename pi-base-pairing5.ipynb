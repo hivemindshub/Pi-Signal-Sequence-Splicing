{
 "cells": [
  {
   "cell_type": "code",
   "execution_count": 1,
   "id": "15d1846e-ca52-4827-9fcc-eaeff9ad155e",
   "metadata": {},
   "outputs": [],
   "source": [
    "from mpmath import mp"
   ]
  },
  {
   "cell_type": "code",
   "execution_count": 2,
   "id": "f6066bda-6235-411e-8322-b091e42bd53c",
   "metadata": {},
   "outputs": [],
   "source": [
    "\n",
    "def extract_pi_sequence(start_pos=0, end_pos=1000):\n",
    "    \"\"\"\n",
    "    Extract a sequence of Pi digits between two base-pair numbers.\n",
    "\n",
    "    Args:\n",
    "    start_pos (int): The starting position of the Pi sequence (1-indexed).\n",
    "    end_pos (int): The ending position of the Pi sequence (1-indexed).\n",
    "\n",
    "    Returns:\n",
    "    str: The extracted Pi sequence.\n",
    "    \"\"\"\n",
    "    # Set the precision (number of digits) for Pi calculation\n",
    "    mp.dps = end_pos + 10  # Set slightly higher than end_pos for safety\n",
    "\n",
    "    # Get the Pi value as a string\n",
    "    pi_str = str(mp.pi)[2:]  # Remove the \"3.\"\n",
    "\n",
    "    # Extract the sequence between start_pos and end_pos\n",
    "    pi_sequence = pi_str[start_pos - 1:end_pos]  # Adjust for 0-indexing\n",
    "\n",
    "    return pi_sequence\n"
   ]
  },
  {
   "cell_type": "code",
   "execution_count": 3,
   "id": "150f3470-5b94-4ffc-92b4-a6422c46ec7e",
   "metadata": {},
   "outputs": [],
   "source": [
    "\n",
    "def extract_and_convert_pi_to_binary(start_pos, end_pos):\n",
    "    \"\"\"\n",
    "    Extract a sequence of Pi digits between two base-pair numbers and convert the sequence into binary.\n",
    "\n",
    "    Args:\n",
    "    start_pos (int): The starting position of the Pi sequence (1-indexed).\n",
    "    end_pos (int): The ending position of the Pi sequence (1-indexed).\n",
    "\n",
    "    Returns:\n",
    "    str: The binary representation of the extracted Pi sequence.\n",
    "    \"\"\"\n",
    "    # Extract the Pi sequence\n",
    "    #pi_sequence = extract_pi_sequence(start_pos, end_pos)\n",
    "    pi_sequence = get_pi_sequence()\n",
    "\n",
    "    # Convert each digit in the sequence to binary and concatenate the result\n",
    "    binary_sequence = ''.join(format(int(digit), '04b') for digit in pi_sequence)\n",
    "\n",
    "    return binary_sequence\n"
   ]
  },
  {
   "cell_type": "code",
   "execution_count": 4,
   "id": "10034bdd-f299-4841-bf68-c19b795e8b11",
   "metadata": {},
   "outputs": [],
   "source": [
    "\n",
    "def binary_to_text(binary_sequence):\n",
    "    \"\"\"\n",
    "    Convert a binary string to human-readable text.\n",
    "\n",
    "    Args:\n",
    "    binary_sequence (str): A string of binary numbers (e.g., '01001000011001010110110001101100').\n",
    "\n",
    "    Convert Binary to ASCII:\n",
    "    Each 8-bit binary chunk is converted to its decimal equivalent using int(byte, 2), and then to an ASCII character using chr().\n",
    "    text = ''.join([chr(int(byte, 2)) for byte in bytes_list]) joins all the characters into a single string.\n",
    "\n",
    "    Returns:\n",
    "    str: The corresponding human-readable text.\n",
    "    \"\"\"\n",
    "    # Split the binary string into chunks of 8 bits (1 byte)\n",
    "    bytes_list = [binary_sequence[i:i + 8] for i in range(0, len(binary_sequence), 8)]\n",
    "\n",
    "    # Convert each byte to its ASCII character\n",
    "    text = ''.join([chr(int(byte, 2)) for byte in bytes_list])\n",
    "\n",
    "    return text\n"
   ]
  },
  {
   "cell_type": "code",
   "execution_count": 5,
   "id": "62ce2c58-8f37-4b94-8e5d-c1df5157c5ee",
   "metadata": {},
   "outputs": [],
   "source": [
    "\n",
    "def introns(pi_sequence, intron_ranges):\n",
    "    \"\"\"\n",
    "    Remove the segments defined as introns from the Pi sequence.\n",
    "\n",
    "    Args:\n",
    "    pi_sequence (str): The original Pi sequence.\n",
    "    intron_ranges (list of tuples): List of (start, end) tuples defining the intron segments (1-indexed).\n",
    "\n",
    "    Returns:\n",
    "    str: The Pi sequence with introns removed.\n",
    "    \"\"\"\n",
    "    intron_free_sequence = pi_sequence\n",
    "    for start, end in sorted(intron_ranges, reverse=True):\n",
    "        intron_free_sequence = intron_free_sequence[:start - 1] + intron_free_sequence[end:]\n",
    "    return intron_free_sequence\n"
   ]
  },
  {
   "cell_type": "code",
   "execution_count": 6,
   "id": "f1fb468c-4128-480d-a7d0-0bc4fbc1ca6e",
   "metadata": {},
   "outputs": [],
   "source": [
    "\n",
    "def exons(pi_sequence, intron_ranges):\n",
    "    \"\"\"\n",
    "    Extract the segments defined as exons from the Pi sequence (i.e., segments not defined as introns).\n",
    "\n",
    "    Args:\n",
    "    pi_sequence (str): The original Pi sequence.\n",
    "    intron_ranges (list of tuples): List of (start, end) tuples defining the intron segments (1-indexed).\n",
    "\n",
    "    Returns:\n",
    "    list: A list of exon segments as strings.\n",
    "    \"\"\"\n",
    "    exons_list = []\n",
    "    last_end = 0\n",
    "    for start, end in sorted(intron_ranges):\n",
    "        if start > last_end + 1:\n",
    "            exons_list.append(pi_sequence[last_end:start - 1])\n",
    "        last_end = end\n",
    "    if last_end < len(pi_sequence):\n",
    "        exons_list.append(pi_sequence[last_end:])\n",
    "    return exons_list\n"
   ]
  },
  {
   "cell_type": "code",
   "execution_count": 7,
   "id": "36399722-e5e2-43e9-a776-c31a955450e4",
   "metadata": {},
   "outputs": [],
   "source": [
    "\n",
    "def spliceosome(exons_list):\n",
    "    \"\"\"\n",
    "    Combine the exons into a single spliced sequence.\n",
    "\n",
    "    Args:\n",
    "    exons_list (list): List of exon segments as strings.\n",
    "\n",
    "    Returns:\n",
    "    str: The spliced Pi sequence.\n",
    "    \"\"\"\n",
    "    return ''.join(exons_list)\n"
   ]
  },
  {
   "cell_type": "code",
   "execution_count": 8,
   "id": "09fc9fc8-2972-402d-a054-9b5ff53d3a90",
   "metadata": {},
   "outputs": [],
   "source": [
    "\n",
    "def find_word_in_pi(word, start_pos=3, pi_length=1000):\n",
    "    \"\"\"\n",
    "    Search for a human-readable word in the Pi sequence and return its start and end positions.\n",
    "\n",
    "    Args:\n",
    "    word (str): The word to search for in the Pi sequence.\n",
    "    start_pos (int): The starting position to begin the search in the Pi sequence (0-indexed).\n",
    "\n",
    "    Returns:\n",
    "    tuple: A tuple containing the start and end positions of the word in the Pi sequence, or None if not found.\n",
    "    \"\"\"\n",
    "    # Convert the word to its binary representation\n",
    "    binary_word = ''.join(format(ord(char), '08b') for char in word)\n",
    "\n",
    "    # Set the precision to cover a large part of the Pi sequence\n",
    "    mp.dps = pi_length  # Adjust based on the range needed\n",
    "\n",
    "    # Get the Pi value as a string\n",
    "    pi_str = str(mp.pi)[2:]  # Remove the \"3.\"\n",
    "\n",
    "    # Convert the Pi sequence to binary\n",
    "    binary_pi_sequence = ''.join(format(int(digit), '04b') for digit in pi_str[start_pos:])\n",
    "\n",
    "    # Find the binary word in the binary Pi sequence\n",
    "    start_index = binary_pi_sequence.find(binary_word)\n",
    "\n",
    "    if start_index != -1:\n",
    "        # Calculate the start and end positions in terms of digits in the Pi sequence\n",
    "        start_position = start_index // 4 + start_pos + 1\n",
    "        end_position = start_position + len(word) * 2 - 1\n",
    "        return start_position, end_position\n",
    "    else:\n",
    "        return None\n"
   ]
  },
  {
   "cell_type": "code",
   "execution_count": 9,
   "id": "6318148e-30da-49c4-a5d8-638d401a3412",
   "metadata": {},
   "outputs": [],
   "source": [
    "\n",
    "def get_pi_sequence():\n",
    "    \n",
    "    # Read the contents of the pi.out file\n",
    "    with open(\"pi.out\", \"r\") as file:\n",
    "        pi_digits = file.read()\n",
    "    return pi_digits\n"
   ]
  },
  {
   "cell_type": "code",
   "execution_count": 10,
   "id": "3db89a7c-2eae-4ab9-b6af-4aed81832060",
   "metadata": {},
   "outputs": [
    {
     "name": "stdout",
     "output_type": "stream",
     "text": [
      "\n",
      "The Pi sequence:\n",
      "3141592653589793238462643383279502884197169399375105820974944592307816406286208998628034825342117067982148086513282306647093844609550582231725359408128481117450284102701938521105559644622948954930381964428810975665933446128475648233786783165271201909145648566923460348610454326648213393607260249141273724587006606315588174881520920962829254091715364367892590360011330530548820466521384146951941511609433057270365759591953092186117381932611793105118548074462379962749567351885752724891227938183011949129833673362440656643086021394946395224737190702179860943702770539217176293176752384674818467669405132000568127145263560827785771342757789609173637178721468440901224953430146549585371050792279689258923542019956112129021960864034418159813629774771309960518707211349999998372978049951059731732816096318595024459455346908302642522308253344685035261931188171010003137838752886587533208381420617177669147303598253490428755468731159562863882353787593751957781857780532171226806613001927876611195909216420198\n",
      "\n",
      "The Pi sequence in binary:\n",
      "0011000101000001010110010010011001010011010110001001011110010011001000111000010001100010011001000011001110000011001001111001010100000010100010000100000110010111000101101001001110011001001101110101000100000101100000100000100101110100100101000100010110010010001100000111100000010110010000000110001010000110001000001000100110011000011000101000000000110100100000100101001101000010000100010111000001100111100110000010000101001000000010000110010100010011001010000010001100000110011001000111000010010011100001000100011000001001010101010000010110000010001000110001011100100101001101011001010000001000000100101000010010000001000100010111010001010000001010000100000100000010011100000001100100111000010100100001000100000101010101011001011001000100011000100010100101001000100101010100100100110000001110000001100101100100010000101000100000010000100101110101011001100101100100110011010001000110000100101000010001110101011001001000001000110011011110000110011110000011000101100101001001110001001000000001100100001001000101000101011001001000010101100110100100100011010001100000001101001000011000010000010001010100001100100110011001001000001000010011001110010011011000000111001001100000001001001001000101000001001001110011011100100100010110000111000000000110011000000110001100010101010110001000000101110100100010000001010100100000100100100000100101100010100000101001001001010100000010010001011100010101001101100100001101100111100010010010010110010000001101100000000000010001001100110000010100110000010101001000100000100000010001100110010100100001001110000100000101000110100101010001100101000001010100010001011000001001010000110011000001010111001001110000001101100101011101011001010110010001100101010011000010010010000110000110000100010111001110000001100100110010011000010001011110010011000100000101000100011000010101001000000001110100010001100010001101111001100101100010011101001001010101100111001101010001100010000101011101010010011100100100100010010001001000100111100100111000000110000011000000010001100101001001000100101001100000110011011001110011001101100010010001000000011001010110011001000011000010000110000000100001001110010100100101000110001110010101001000100100011100110111000110010000011100000010000101111001100001100000100101000011011100000010011101110000010100111001001000010111000101110110001010010011000101110110011101010010001110000100011001110100100000011000010001100111011001101001010000000101000100110010000000000000010101101000000100100111000101000101001001100011010101100000100000100111011110000101011101110001001101000010011101010111011110001001011000001001000101110011011000110111000101111000011100100001010001101000010001000000100100000001001000100100100101010011010000110000000101000110010101001001010110000101001101110001000001010000011110010010001001111001011010001001001001011000100100100011010101000010000000011001100101010110000100010010000100101001000000100001100101100000100001100100000000110100010000011000000101011001100000010011011000101001011101110100011101110001001100001001100101100000010100011000011100000111001000010001001101001001100110011001100110011000001101110010100101111000000001001001100101010001000001011001011100110001011100110010100000010110000010010110001100011000010110010101000000100100010001011001010001010101001101000110100100001000001100000010011001000010010100100010001100001000001001010011001101000100011010000101000000110101001001100001100100110001000110001000000101110001000000010000000000000011000100110111100000111000011101010010100010000110010110000111010100110011001000001000001110000001010000100000011000010111000101110111011001101001000101000111001100000011010110011000001001010011010010010000010000101000011101010101010001101000011100110001000101011001010101100010100001100011100010000010001101010011011110000111010110010011011101010001100101010111011110000001100001010111011110000000010100110010000101110001001000100110100000000110011000010011000000000001100100100111100001110110011000010001000110010101100100001001001000010110010000100000000110011000\n",
      "\n",
      "Intron-free Pi sequence:\n",
      "3141592653589793238462643383279502495343014654952816096318595024459455346908302642522308253344685035261931188171010003137838752886587533208381420617177669147303598253490428755468731159562863882353787593751957781857780532171226806613001927876611195909216420198\n"
     ]
    }
   ],
   "source": [
    "\n",
    "# Example usage:\n",
    "start_pos = 333\n",
    "end_pos = 999\n",
    "\n",
    "# Define the intron ranges (1-indexed, inclusive)\n",
    "intron_ranges = [(100, 200), (300, 400), (600, 700)] #control\n",
    "intron_ranges = [(50, 200), (35, 400), (678, 789), (78, 189)]\n",
    "\n",
    "# Extract the Pi sequence\n",
    "pi_sequence = extract_pi_sequence(start_pos, end_pos)\n",
    "pi_sequence = get_pi_sequence()\n",
    "\n",
    "print(f\"\\nThe Pi sequence:\\n{pi_sequence}\")\n",
    "\n",
    "print(f\"\\nThe Pi sequence in binary:\\n{extract_and_convert_pi_to_binary(start_pos,end_pos)}\")\n",
    "\n",
    "# Remove introns from the pi_sequence\n",
    "intron_free_sequence = introns(pi_sequence, intron_ranges)\n",
    "print(f\"\\nIntron-free Pi sequence:\\n{intron_free_sequence}\")\n"
   ]
  },
  {
   "cell_type": "code",
   "execution_count": 11,
   "id": "901e8697-b823-460c-bb01-4c61a981e367",
   "metadata": {},
   "outputs": [
    {
     "name": "stdout",
     "output_type": "stream",
     "text": [
      "\n",
      "Exons extracted:\n",
      "['3141592653589793238462643383279502', '89549303819644288109756659334461284756482337867831652712019091456485669234603486104543266482133936072602491412737245870066063155881748815209209628292540917153643678925903600113305305488204665213841469519415116094330572703657595919530921861173819326117931051185480744623799627495673518857527248912279381830119491298336733624406566430860213949463952247371907021798609437027705392171762931767523846748184676694051320005681271452635608277857713427577896091736371787214684409012249534301465495', '2816096318595024459455346908302642522308253344685035261931188171010003137838752886587533208381420617177669147303598253490428755468731159562863882353787593751957781857780532171226806613001927876611195909216420198']\n",
      "\n",
      "Spliced Pi sequence:\n",
      "3141592653589793238462643383279502895493038196442881097566593344612847564823378678316527120190914564856692346034861045432664821339360726024914127372458700660631558817488152092096282925409171536436789259036001133053054882046652138414695194151160943305727036575959195309218611738193261179310511854807446237996274956735188575272489122793818301194912983367336244065664308602139494639522473719070217986094370277053921717629317675238467481846766940513200056812714526356082778577134275778960917363717872146844090122495343014654952816096318595024459455346908302642522308253344685035261931188171010003137838752886587533208381420617177669147303598253490428755468731159562863882353787593751957781857780532171226806613001927876611195909216420198\n",
      "\n",
      "The human-readable text from the spliced sequence is:\n",
      "1AY&SX#bd3'\u0002T\u0003D(\tufY3Da(GVH#7x1e'\u0012\u0001Ed",
      "f4`4\u0010EC&d\u001396\u0007&\u0002I\u0014\u0012srE\u0000f\u00061U\u0017HR\t ()%@qSd6xY\u0003`\u0001\u00130S\u0005H\u0004fR\u0013\u0014iQ\u0015\u0011`3\u0005rp6WYY\u0019S\t!\u0011s&\u0011y1\u0005\u0011",
      "H\u0007Db7btg5\u0018",
      "u'$\u0012'\u0001\u0019I\u00123g3bD\u0006Vd0\u0002\u0013c\"G7\u0019\u0007\u0002\u0017`7\u0002w\u00059!qv)1vu#gH\u0018Fvi@Q2\u0000\u0005h\u0012qE&5`w",
      "w\u0013Buw`scqxr\u0014hD\t\u0001\"ISC\u0001FT(\u0016\tc\u0018YP$EU40&BR%3DhP5&\u00191\u0018q\u0001\u0000\u0003\u0013x8u(Xu3 B\u0006\u0017\u0017vi\u0014s\u0003YSI\u0004(uThs\u0011YV(c#Sxuu\u0019Wx\u0018Wx\u00052\u0017\u0012&f\u0013\u0000\u0019'f\u0011\u0019Y\t!d \n"
     ]
    }
   ],
   "source": [
    "\n",
    "# Extract exons\n",
    "exons_list = exons(pi_sequence, intron_ranges)\n",
    "print(f\"\\nExons extracted:\\n{exons_list}\")\n",
    "\n",
    "# Combine exons to create the spliced sequence\n",
    "spliced_sequence = spliceosome(exons_list)\n",
    "print(f\"\\nSpliced Pi sequence:\\n{spliced_sequence}\")\n",
    "\n",
    "# Convert the spliced Pi sequence to binary\n",
    "binary_spliced_sequence = ''.join(format(int(digit), '04b') for digit in spliced_sequence)\n",
    "\n",
    "# Convert the binary sequence to human-readable text\n",
    "human_text = binary_to_text(binary_spliced_sequence)\n",
    "print(f\"\\nThe human-readable text from the spliced sequence is:\\n{human_text}\")\n"
   ]
  },
  {
   "cell_type": "code",
   "execution_count": null,
   "id": "7fe38e16-37c4-4fe5-ad39-5e67aabab562",
   "metadata": {},
   "outputs": [],
   "source": []
  }
 ],
 "metadata": {
  "kernelspec": {
   "display_name": "Python 3 (ipykernel)",
   "language": "python",
   "name": "python3"
  },
  "language_info": {
   "codemirror_mode": {
    "name": "ipython",
    "version": 3
   },
   "file_extension": ".py",
   "mimetype": "text/x-python",
   "name": "python",
   "nbconvert_exporter": "python",
   "pygments_lexer": "ipython3",
   "version": "3.12.1"
  }
 },
 "nbformat": 4,
 "nbformat_minor": 5
}
