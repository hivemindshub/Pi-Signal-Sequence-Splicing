{
 "cells": [
  {
   "cell_type": "code",
   "execution_count": 1,
   "id": "8723072a-c731-4e3a-a1ab-6d71829d4d84",
   "metadata": {},
   "outputs": [],
   "source": [
    "import random"
   ]
  },
  {
   "cell_type": "code",
   "execution_count": 2,
   "id": "f211b547-3a6d-418c-8245-c208530ee134",
   "metadata": {},
   "outputs": [],
   "source": [
    "\n",
    "# Codon to Amino Acid mapping\n",
    "codon_table = {\n",
    "    'AUG': 'Methionine',  # Start codon\n",
    "    'UUU': 'Phenylalanine', 'UUC': 'Phenylalanine',\n",
    "    'UUA': 'Leucine', 'UUG': 'Leucine',\n",
    "    'CUU': 'Leucine', 'CUC': 'Leucine', 'CUA': 'Leucine', 'CUG': 'Leucine',\n",
    "    'AUU': 'Isoleucine', 'AUC': 'Isoleucine', 'AUA': 'Isoleucine',\n",
    "    'GUU': 'Valine', 'GUC': 'Valine', 'GUA': 'Valine', 'GUG': 'Valine',\n",
    "    'UCU': 'Serine', 'UCC': 'Serine', 'UCA': 'Serine', 'UCG': 'Serine',\n",
    "    'CCU': 'Proline', 'CCC': 'Proline', 'CCA': 'Proline', 'CCG': 'Proline',\n",
    "    'ACU': 'Threonine', 'ACC': 'Threonine', 'ACA': 'Threonine', 'ACG': 'Threonine',\n",
    "    'GCU': 'Alanine', 'GCC': 'Alanine', 'GCA': 'Alanine', 'GCG': 'Alanine',\n",
    "    'UAU': 'Tyrosine', 'UAC': 'Tyrosine',\n",
    "    'UAA': 'Stop', 'UAG': 'Stop', 'UGA': 'Stop',  # Stop codons\n",
    "    'CAU': 'Histidine', 'CAC': 'Histidine',\n",
    "    'CAA': 'Glutamine', 'CAG': 'Glutamine',\n",
    "    'AAU': 'Asparagine', 'AAC': 'Asparagine',\n",
    "    'AAA': 'Lysine', 'AAG': 'Lysine',\n",
    "    'GAU': 'Aspartic acid', 'GAC': 'Aspartic acid',\n",
    "    'GAA': 'Glutamic acid', 'GAG': 'Glutamic acid',\n",
    "    'UGU': 'Cysteine', 'UGC': 'Cysteine',\n",
    "    'UGG': 'Tryptophan',\n",
    "    'CGU': 'Arginine', 'CGC': 'Arginine', 'CGA': 'Arginine', 'CGG': 'Arginine',\n",
    "    'AGU': 'Serine', 'AGC': 'Serine',\n",
    "    'AGA': 'Arginine', 'AGG': 'Arginine',\n",
    "    'GGU': 'Glycine', 'GGC': 'Glycine', 'GGA': 'Glycine', 'GGG': 'Glycine'\n",
    "}"
   ]
  },
  {
   "cell_type": "code",
   "execution_count": 3,
   "id": "a1a0a747-f9ac-4c3c-9e7f-8d8bc5ec1b54",
   "metadata": {},
   "outputs": [],
   "source": [
    "\n",
    "def generate_random_rna_sequence(length=100):\n",
    "    \"\"\"\n",
    "    Generates a random RNA sequence of the specified length.\n",
    "\n",
    "    Args:\n",
    "    length (int): The length of the RNA sequence to generate. Default is 100.\n",
    "\n",
    "    Returns:\n",
    "    str: A random RNA sequence composed of 'A', 'U', 'C', 'G'.\n",
    "    \"\"\"\n",
    "    nucleotides = ['A', 'U', 'C', 'G']\n",
    "    rna_sequence = ''.join(random.choice(nucleotides) for _ in range(length))\n",
    "    return rna_sequence\n"
   ]
  },
  {
   "cell_type": "code",
   "execution_count": 4,
   "id": "97ab59ac-3e48-4742-a3a5-586ce1943663",
   "metadata": {},
   "outputs": [],
   "source": [
    "\n",
    "def translate_rna_to_protein(rna_sequence):\n",
    "    \"\"\"\n",
    "    Translates an RNA sequence into an amino acid sequence.\n",
    "\n",
    "    Args:\n",
    "    rna_sequence (str): The RNA sequence to translate.\n",
    "\n",
    "    Returns:\n",
    "    list: A list of tuples showing the RNA codons and their corresponding amino acids.\n",
    "    \"\"\"\n",
    "    amino_acids = []\n",
    "    for i in range(0, len(rna_sequence) - 2, 3):\n",
    "        codon = rna_sequence[i:i+3]\n",
    "        amino_acid = codon_table.get(codon, 'Unknown')\n",
    "        if amino_acid == 'Stop':\n",
    "            break\n",
    "        amino_acids.append((codon, amino_acid))\n",
    "    return amino_acids\n"
   ]
  },
  {
   "cell_type": "code",
   "execution_count": 5,
   "id": "d5eb0838-6065-4ea5-a749-bcfb89ae355a",
   "metadata": {},
   "outputs": [
    {
     "name": "stdout",
     "output_type": "stream",
     "text": [
      "Random RNA Sequence of length 99:\n",
      "UUGCCGUCUCUACACUCAUAUUACGCCCCUAUUGUUCUUACCGGAUGACCAUCACGCACCAUGAGAACCAAACCACCUCUAGUCGCACUGCAGAGGCCG\n"
     ]
    }
   ],
   "source": [
    "\n",
    "# Generate a random RNA sequence of length 99 (divisible by 3)\n",
    "random_rna = generate_random_rna_sequence(99)\n",
    "print(\"Random RNA Sequence of length 99:\")\n",
    "print(random_rna)\n",
    "\n"
   ]
  },
  {
   "cell_type": "code",
   "execution_count": 6,
   "id": "e63e8610-9436-4c94-927f-c9c1a6450a2f",
   "metadata": {},
   "outputs": [
    {
     "name": "stdout",
     "output_type": "stream",
     "text": [
      "\n",
      "RNA Codon to Amino Acid Mapping:\n",
      "UUG -> Leucine\n",
      "CCG -> Proline\n",
      "UCU -> Serine\n",
      "CUA -> Leucine\n",
      "CAC -> Histidine\n",
      "UCA -> Serine\n",
      "UAU -> Tyrosine\n",
      "UAC -> Tyrosine\n",
      "GCC -> Alanine\n",
      "CCU -> Proline\n",
      "AUU -> Isoleucine\n",
      "GUU -> Valine\n",
      "CUU -> Leucine\n",
      "ACC -> Threonine\n",
      "GGA -> Glycine\n"
     ]
    }
   ],
   "source": [
    "\n",
    "# Translate the RNA sequence to a protein sequence and print the mapping\n",
    "protein_sequence_mapping = translate_rna_to_protein(random_rna)\n",
    "print(\"\\nRNA Codon to Amino Acid Mapping:\")\n",
    "for codon, amino_acid in protein_sequence_mapping:\n",
    "    print(f\"{codon} -> {amino_acid}\")"
   ]
  },
  {
   "cell_type": "code",
   "execution_count": null,
   "id": "092f34d8-b15d-4a68-8603-66133aa3e6eb",
   "metadata": {},
   "outputs": [],
   "source": []
  }
 ],
 "metadata": {
  "kernelspec": {
   "display_name": "Python 3 (ipykernel)",
   "language": "python",
   "name": "python3"
  },
  "language_info": {
   "codemirror_mode": {
    "name": "ipython",
    "version": 3
   },
   "file_extension": ".py",
   "mimetype": "text/x-python",
   "name": "python",
   "nbconvert_exporter": "python",
   "pygments_lexer": "ipython3",
   "version": "3.12.1"
  }
 },
 "nbformat": 4,
 "nbformat_minor": 5
}
