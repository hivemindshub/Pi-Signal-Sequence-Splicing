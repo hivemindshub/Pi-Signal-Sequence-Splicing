{
 "cells": [
  {
   "cell_type": "code",
   "execution_count": 1,
   "id": "cfc8b6bd-44f0-490c-a5a8-7be55809e527",
   "metadata": {},
   "outputs": [],
   "source": [
    "import requests"
   ]
  },
  {
   "cell_type": "code",
   "execution_count": 2,
   "id": "165554ef-f1cb-4e75-89a4-b662da411b42",
   "metadata": {},
   "outputs": [],
   "source": [
    "# Define the API endpoint\n",
    "url = \"https://api.pi.delivery/v1/pi\""
   ]
  },
  {
   "cell_type": "code",
   "execution_count": 3,
   "id": "3a8029ae-a94c-4a29-bb10-f743bd91be9b",
   "metadata": {},
   "outputs": [],
   "source": [
    "# Define the query parameters\n",
    "params = {\n",
    "    \"start\": 0,\n",
    "    \"numberOfDigits\": 1000\n",
    "}\n"
   ]
  },
  {
   "cell_type": "code",
   "execution_count": 4,
   "id": "1a089bfb-2c1a-4d10-a71f-99a44047ab26",
   "metadata": {},
   "outputs": [],
   "source": [
    "\n",
    "# Make the GET request to the API\n",
    "response = requests.get(url, params=params)\n"
   ]
  },
  {
   "cell_type": "code",
   "execution_count": 5,
   "id": "345ed62e-1758-4e08-9992-9a73e4515090",
   "metadata": {},
   "outputs": [
    {
     "name": "stdout",
     "output_type": "stream",
     "text": [
      "<Response [200]>\n"
     ]
    }
   ],
   "source": [
    "print( response )\n"
   ]
  },
  {
   "cell_type": "code",
   "execution_count": 6,
   "id": "a729be26-17b8-4391-b87b-8edb922f781a",
   "metadata": {},
   "outputs": [
    {
     "name": "stdout",
     "output_type": "stream",
     "text": [
      "3141592653589793238462643383279502884197169399375105820974944592307816406286208998628034825342117067982148086513282306647093844609550582231725359408128481117450284102701938521105559644622948954930381964428810975665933446128475648233786783165271201909145648566923460348610454326648213393607260249141273724587006606315588174881520920962829254091715364367892590360011330530548820466521384146951941511609433057270365759591953092186117381932611793105118548074462379962749567351885752724891227938183011949129833673362440656643086021394946395224737190702179860943702770539217176293176752384674818467669405132000568127145263560827785771342757789609173637178721468440901224953430146549585371050792279689258923542019956112129021960864034418159813629774771309960518707211349999998372978049951059731732816096318595024459455346908302642522308253344685035261931188171010003137838752886587533208381420617177669147303598253490428755468731159562863882353787593751957781857780532171226806613001927876611195909216420198\n"
     ]
    }
   ],
   "source": [
    "pi_data = response.json()[\"content\"]\n",
    "print (pi_data)"
   ]
  },
  {
   "cell_type": "code",
   "execution_count": 7,
   "id": "1af715d6-a7bc-4f83-a342-466f22dd1650",
   "metadata": {},
   "outputs": [],
   "source": [
    "# Save the pi digits to a file\n",
    "with open(\"pi.out\", \"w\") as file:\n",
    "    file.write(pi_data)"
   ]
  },
  {
   "cell_type": "code",
   "execution_count": null,
   "id": "fe49be97-4c50-44a8-be2a-d2bde79acd8b",
   "metadata": {},
   "outputs": [],
   "source": []
  }
 ],
 "metadata": {
  "kernelspec": {
   "display_name": "Python 3 (ipykernel)",
   "language": "python",
   "name": "python3"
  },
  "language_info": {
   "codemirror_mode": {
    "name": "ipython",
    "version": 3
   },
   "file_extension": ".py",
   "mimetype": "text/x-python",
   "name": "python",
   "nbconvert_exporter": "python",
   "pygments_lexer": "ipython3",
   "version": "3.12.1"
  }
 },
 "nbformat": 4,
 "nbformat_minor": 5
}
